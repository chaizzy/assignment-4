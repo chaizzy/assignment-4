{
 "cells": [
  {
   "cell_type": "code",
   "execution_count": 24,
   "id": "874df552-7460-4b0c-b46a-23869d29dd7b",
   "metadata": {},
   "outputs": [
    {
     "name": "stdout",
     "output_type": "stream",
     "text": [
      "[1, 3, 5, 7, 9, 11, 13, 15, 17, 19, 21, 23, 25]\n"
     ]
    }
   ],
   "source": [
    "#ANS 1\n",
    "# \"def\" keyword is used to create a function\n",
    "def odd_numbers(l):\n",
    "    l=[]\n",
    "    for i in  l1:\n",
    "        if i%2 != 0:\n",
    "            l.append(i)\n",
    "    return l\n",
    "l1=[]\n",
    "for i in range(1,26):\n",
    "    l1.append(i)\n",
    "\n",
    "#print(l1)  \n",
    "a = l1\n",
    "print(odd_numbers(a))    \n",
    "    \n",
    "    \n",
    "    \n"
   ]
  },
  {
   "cell_type": "code",
   "execution_count": 25,
   "id": "73898e77-e59d-4db3-a021-89b6af441a04",
   "metadata": {},
   "outputs": [
    {
     "name": "stdout",
     "output_type": "stream",
     "text": [
      "no. of arguments are by usigs args : (1, 2, 3, 4, 5, 6, 7, 8)\n",
      "no. of arguments are by usigs kwargs : {'a': 1, 'b': 2, 'c': 3, 'd': 4}\n"
     ]
    }
   ],
   "source": [
    "#ANS 2 \n",
    "# \"args\" keyword in a function is used to give n number of arguments and function returns the value in tuple data stuctures\n",
    "#for example\n",
    "\n",
    "def func1(*args):\n",
    "    return args\n",
    "print(\"no. of arguments are by usigs args :\",func1(1,2,3,4,5,6,7,8))\n",
    "\n",
    "# \"kwargs\" keyword in a function  is used take key value pairs arguments and function returns in dictionary format\n",
    "#for example\n",
    "\n",
    "def func2(**kwargs):\n",
    "    return kwargs\n",
    "print(\"no. of arguments are by usigs kwargs :\",func2(a=1,b=2,c=3,d=4))\n",
    "\n",
    "\n",
    "\n",
    "      "
   ]
  },
  {
   "cell_type": "code",
   "execution_count": 26,
   "id": "d36e63f7-4ed1-4ff0-974e-1cc7ef780c98",
   "metadata": {},
   "outputs": [
    {
     "name": "stdout",
     "output_type": "stream",
     "text": [
      "2 4 6 8 10\n"
     ]
    }
   ],
   "source": [
    "#ANS 3\n",
    "# in python iterator is a object which is used to iterate over collections of data\n",
    "# iter() method is used to initialise the iterator object and next() method is used for iteration\n",
    "l1=[2,4,6,8,10,12,14,16,18,20]\n",
    "l = iter(l1)\n",
    "print(next(l),next(l),next(l),next(l),next(l))\n"
   ]
  },
  {
   "cell_type": "code",
   "execution_count": 29,
   "id": "093f85ab-78cc-49b1-8f9a-31b878099a36",
   "metadata": {},
   "outputs": [
    {
     "name": "stdout",
     "output_type": "stream",
     "text": [
      "1\n",
      "2\n",
      "3\n",
      "4\n",
      "5\n",
      "6\n"
     ]
    }
   ],
   "source": [
    "#ANS 4\n",
    "# Generator function is a normal function which returns the value of any object one by one and \"yeild\" keyword is used to throw the data\n",
    "# one by one \n",
    "def gen_func(l):\n",
    "    l=[]\n",
    "    for i in l:\n",
    "        yield i\n",
    "l1=[1,2,3,4,5,6]\n",
    "a=l1\n",
    "for i in a:\n",
    "    print(i)\n",
    "\n",
    "    "
   ]
  },
  {
   "cell_type": "markdown",
   "id": "04e1b12c-cad0-4c91-a369-77c8785d95cd",
   "metadata": {},
   "source": [
    "#ANS 5 \n",
    "def gen_prime_num(lower,higher):\n",
    "    for n in range(lower , higher+1):\n",
    "        if n > 2:\n",
    "            for i in range(2,n):\n",
    "                if i%n == 0:\n",
    "                    break\n",
    "                else:\n",
    "                    yield n\n",
    "lower = 1\n",
    "higher = 1000\n",
    "n=int()\n",
    "n1 = iter(n)\n",
    "gen_prime_num(lower,higher)\n",
    "next(n1)\n",
    "\n",
    "                 \n",
    "                    \n",
    "doubt in this question           \n",
    "    \n",
    "\n",
    "    \n",
    "            \n",
    "        \n",
    "    "
   ]
  },
  {
   "cell_type": "code",
   "execution_count": 10,
   "id": "505e808d-470a-4715-acb9-a8224ff20bb5",
   "metadata": {},
   "outputs": [
    {
     "name": "stdin",
     "output_type": "stream",
     "text": [
      "enter the number 10\n"
     ]
    },
    {
     "name": "stdout",
     "output_type": "stream",
     "text": [
      "0\n",
      "1\n",
      "1\n",
      "2\n",
      "3\n",
      "5\n",
      "8\n",
      "13\n",
      "21\n",
      "34\n"
     ]
    }
   ],
   "source": [
    "#ANS 6\n",
    "def fib(n):\n",
    "    a,b=0,1\n",
    "    for i in range(n):\n",
    "        c=a+b\n",
    "        print(a)\n",
    "        a=b\n",
    "        b=c\n",
    "n=int(input(\"enter the number\"))\n",
    "a=n\n",
    "fib(a)\n",
    "        "
   ]
  },
  {
   "cell_type": "code",
   "execution_count": 2,
   "id": "43fae9a3-203e-4624-8385-95123e31c6f6",
   "metadata": {},
   "outputs": [
    {
     "data": {
      "text/plain": [
       "['p', 'w', 's', 'k', 'i', 'l', 'l', 's']"
      ]
     },
     "execution_count": 2,
     "metadata": {},
     "output_type": "execute_result"
    }
   ],
   "source": [
    "#ANS 7\n",
    "s=\"pwskills\"\n",
    "[i for i in s]"
   ]
  },
  {
   "cell_type": "code",
   "execution_count": 25,
   "id": "c5361009-d1e8-4ad6-9b34-b1cdbaf43d9d",
   "metadata": {},
   "outputs": [
    {
     "name": "stdin",
     "output_type": "stream",
     "text": [
      "enter the input 123\n"
     ]
    },
    {
     "name": "stdout",
     "output_type": "stream",
     "text": [
      "false\n"
     ]
    }
   ],
   "source": [
    "#ANS 8\n",
    "def ispalindrome(n):\n",
    "    if str(n)[::-1]==str(n):\n",
    "        return \"true\"\n",
    "    else:\n",
    "        return \"false\"\n",
    "n=int(input(\"enter the input\"))\n",
    "a=n\n",
    "b = print(ispalindrome(a))\n",
    "\n",
    "    "
   ]
  },
  {
   "cell_type": "code",
   "execution_count": 28,
   "id": "00a0ffa8-c4cd-4465-8cd1-3fbb75cd135f",
   "metadata": {},
   "outputs": [
    {
     "data": {
      "text/plain": [
       "[1,\n",
       " 3,\n",
       " 5,\n",
       " 7,\n",
       " 9,\n",
       " 11,\n",
       " 13,\n",
       " 15,\n",
       " 17,\n",
       " 19,\n",
       " 21,\n",
       " 23,\n",
       " 25,\n",
       " 27,\n",
       " 29,\n",
       " 31,\n",
       " 33,\n",
       " 35,\n",
       " 37,\n",
       " 39,\n",
       " 41,\n",
       " 43,\n",
       " 45,\n",
       " 47,\n",
       " 49,\n",
       " 51,\n",
       " 53,\n",
       " 55,\n",
       " 57,\n",
       " 59,\n",
       " 61,\n",
       " 63,\n",
       " 65,\n",
       " 67,\n",
       " 69,\n",
       " 71,\n",
       " 73,\n",
       " 75,\n",
       " 77,\n",
       " 79,\n",
       " 81,\n",
       " 83,\n",
       " 85,\n",
       " 87,\n",
       " 89,\n",
       " 91,\n",
       " 93,\n",
       " 95,\n",
       " 97,\n",
       " 99]"
      ]
     },
     "execution_count": 28,
     "metadata": {},
     "output_type": "execute_result"
    }
   ],
   "source": [
    "#ANS 9\n",
    "l=[]\n",
    "for i in range(1,101):\n",
    "    l.append(i)\n",
    "#print(l)\n",
    "\n",
    "[i for i in l if i%2 != 0]\n"
   ]
  },
  {
   "cell_type": "code",
   "execution_count": null,
   "id": "c3b4c20c-ee79-43f7-a387-a0df84c47d39",
   "metadata": {},
   "outputs": [],
   "source": []
  },
  {
   "cell_type": "code",
   "execution_count": null,
   "id": "539b315c-530f-4c21-900e-0a6c052a87dd",
   "metadata": {},
   "outputs": [],
   "source": []
  },
  {
   "cell_type": "code",
   "execution_count": null,
   "id": "2e5e63fa-8907-4e99-b26e-b22cb6d5ed1f",
   "metadata": {},
   "outputs": [],
   "source": []
  }
 ],
 "metadata": {
  "kernelspec": {
   "display_name": "Python 3 (ipykernel)",
   "language": "python",
   "name": "python3"
  },
  "language_info": {
   "codemirror_mode": {
    "name": "ipython",
    "version": 3
   },
   "file_extension": ".py",
   "mimetype": "text/x-python",
   "name": "python",
   "nbconvert_exporter": "python",
   "pygments_lexer": "ipython3",
   "version": "3.10.8"
  }
 },
 "nbformat": 4,
 "nbformat_minor": 5
}
